{
  "nbformat": 4,
  "nbformat_minor": 0,
  "metadata": {
    "colab": {
      "provenance": [],
      "authorship_tag": "ABX9TyN004fHoEpmGFDv5IF6btkm",
      "include_colab_link": true
    },
    "kernelspec": {
      "name": "python3",
      "display_name": "Python 3"
    },
    "language_info": {
      "name": "python"
    }
  },
  "cells": [
    {
      "cell_type": "markdown",
      "metadata": {
        "id": "view-in-github",
        "colab_type": "text"
      },
      "source": [
        "<a href=\"https://colab.research.google.com/github/clintonjwalker/csc-1253-spring-2023-examples/blob/main/lsu_pft_ee.ipynb\" target=\"_parent\"><img src=\"https://colab.research.google.com/assets/colab-badge.svg\" alt=\"Open In Colab\"/></a>"
      ]
    },
    {
      "cell_type": "code",
      "execution_count": null,
      "metadata": {
        "id": "0-sm56f9e5XJ"
      },
      "outputs": [],
      "source": [
        "import ee\n",
        "from calendar import monthrange\n",
        "from datetime import date"
      ]
    },
    {
      "cell_type": "code",
      "source": [
        "if not ee.data._credentials:\n",
        "    print('Running initialization.')\n",
        "    try:\n",
        "        ee.Initialize()\n",
        "        print('Initialization passed.')\n",
        "    except Exception as e:\n",
        "        print(e)\n",
        "        print('Initialize failed. Running authenticate.')\n",
        "        ee.Authenticate()\n",
        "        ee.Initialize()\n",
        "        print('Authentication and initialization passed.')\n",
        "else:\n",
        "    print('Already initialized.')"
      ],
      "metadata": {
        "id": "3eiNmh4iiZFb"
      },
      "execution_count": null,
      "outputs": []
    },
    {
      "cell_type": "code",
      "source": [
        "pft_geometry = ee.Geometry.Polygon([\n",
        "                                   [-91.18098991060191,30.407228502016384], \n",
        "                                   [-91.17931621217662,30.406687195175802],\n",
        "                                   [-91.17869393968516,30.408237082824666],\n",
        "                                   [-91.18039982461863,30.408671972251703],\n",
        "                                   [-91.18098991060191,30.407228502016384]\n",
        "                                   ])"
      ],
      "metadata": {
        "id": "4yDT-l1niTsk"
      },
      "execution_count": null,
      "outputs": []
    },
    {
      "cell_type": "code",
      "source": [
        "sentinel_2 = 'COPERNICUS/S2'\n",
        "bands = ['B4', 'B3', 'B2']\n",
        "start_date = '2013-1-1'\n",
        "end_date = '2017-12-1'"
      ],
      "metadata": {
        "id": "1T1bZR62iQZU"
      },
      "execution_count": null,
      "outputs": []
    },
    {
      "cell_type": "code",
      "source": [
        "images = ee.ImageCollection(sentinel_2).filterDate(start_date, end_date).filterBounds(pft_geometry)\n",
        "images = images.select(bands)\n",
        "images = images.filter(ee.Filter.lt(\"CLOUDY_PIXEL_PERCENTAGE\", 20.0))\n",
        "image = images.mean().clip(pft_geometry)\n",
        "image = image.divide(10000)"
      ],
      "metadata": {
        "id": "JVQqNMuviMp1"
      },
      "execution_count": null,
      "outputs": []
    },
    {
      "cell_type": "code",
      "source": [
        "print(image)"
      ],
      "metadata": {
        "id": "chqG1X_8kIAP"
      },
      "execution_count": null,
      "outputs": []
    },
    {
      "cell_type": "code",
      "source": [
        "params = {\n",
        "  'region': pft_geometry,\n",
        "  'format': 'png',\n",
        "  'dimensions': 750,\n",
        "  'crs': 'EPSG:3857',\n",
        "  'bands': bands,\n",
        "  'min': 0,\n",
        "  'max': 0.5,\n",
        "};\n",
        "\n",
        "print(image.getThumbURL(params));"
      ],
      "metadata": {
        "id": "U-z85tZmf50D"
      },
      "execution_count": null,
      "outputs": []
    },
    {
      "cell_type": "code",
      "source": [
        "campus_geometry = ee.Geometry.Polygon([\n",
        "        [-91.18633326568826,30.41107412987463],\n",
        "        [-91.17590483703836,30.409075522276158],\n",
        "        [-91.16448935547098,30.40755803362363],\n",
        "        [-91.15972575226053,30.413775886208796],\n",
        "        [-91.16612013855203,30.420178379992045],\n",
        "        [-91.17702063598855,30.419956335215883],\n",
        "        [-91.18723448791727,30.41973428993444],\n",
        "        [-91.1872774032615,30.417920901223916],\n",
        "        [-91.18633326568826,30.41107412987463]\n",
        "        ])"
      ],
      "metadata": {
        "id": "ENWaJiiEqO-D"
      },
      "execution_count": null,
      "outputs": []
    },
    {
      "cell_type": "code",
      "source": [
        "images = ee.ImageCollection(sentinel_2).filterDate(start_date, end_date).filterBounds(campus_geometry)\n",
        "images = images.select(bands)\n",
        "images = images.filter(ee.Filter.lt(\"CLOUDY_PIXEL_PERCENTAGE\", 20.0))\n",
        "image = images.mean().clip(campus_geometry)\n",
        "image = image.divide(10000)"
      ],
      "metadata": {
        "id": "w2Ij2pTqqqPa"
      },
      "execution_count": null,
      "outputs": []
    },
    {
      "cell_type": "code",
      "source": [
        "params = {\n",
        "  'region': campus_geometry,\n",
        "  'format': 'png',\n",
        "  'dimensions': 750,\n",
        "  'crs': 'EPSG:3857',\n",
        "  'framesPerSecond': 60,\n",
        "  'bands': bands,\n",
        "  'min': 0,\n",
        "  'max': 0.5\n",
        "};\n",
        "\n",
        "print(image.getThumbURL(params));"
      ],
      "metadata": {
        "id": "EGNlCOMvqywn"
      },
      "execution_count": null,
      "outputs": []
    }
  ]
}